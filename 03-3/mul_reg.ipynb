{
 "cells": [
  {
   "cell_type": "code",
   "execution_count": 1,
   "metadata": {
    "collapsed": true,
    "ExecuteTime": {
     "end_time": "2023-08-06T09:00:40.611365800Z",
     "start_time": "2023-08-06T09:00:39.574513500Z"
    }
   },
   "outputs": [
    {
     "data": {
      "text/plain": "array([[ 8.4 ,  2.11,  1.41],\n       [13.7 ,  3.53,  2.  ],\n       [15.  ,  3.82,  2.43],\n       [16.2 ,  4.59,  2.63],\n       [17.4 ,  4.59,  2.94],\n       [18.  ,  5.22,  3.32],\n       [18.7 ,  5.2 ,  3.12],\n       [19.  ,  5.64,  3.05],\n       [19.6 ,  5.14,  3.04],\n       [20.  ,  5.08,  2.77],\n       [21.  ,  5.69,  3.56],\n       [21.  ,  5.92,  3.31],\n       [21.  ,  5.69,  3.67],\n       [21.3 ,  6.38,  3.53],\n       [22.  ,  6.11,  3.41],\n       [22.  ,  5.64,  3.52],\n       [22.  ,  6.11,  3.52],\n       [22.  ,  5.88,  3.52],\n       [22.  ,  5.52,  4.  ],\n       [22.5 ,  5.86,  3.62],\n       [22.5 ,  6.79,  3.62],\n       [22.7 ,  5.95,  3.63],\n       [23.  ,  5.22,  3.63],\n       [23.5 ,  6.28,  3.72],\n       [24.  ,  7.29,  3.72],\n       [24.  ,  6.38,  3.82],\n       [24.6 ,  6.73,  4.17],\n       [25.  ,  6.44,  3.68],\n       [25.6 ,  6.56,  4.24],\n       [26.5 ,  7.17,  4.14],\n       [27.3 ,  8.32,  5.14],\n       [27.5 ,  7.17,  4.34],\n       [27.5 ,  7.05,  4.34],\n       [27.5 ,  7.28,  4.57],\n       [28.  ,  7.82,  4.2 ],\n       [28.7 ,  7.59,  4.64],\n       [30.  ,  7.62,  4.77],\n       [32.8 , 10.03,  6.02],\n       [34.5 , 10.26,  6.39],\n       [35.  , 11.49,  7.8 ],\n       [36.5 , 10.88,  6.86],\n       [36.  , 10.61,  6.74],\n       [37.  , 10.84,  6.26],\n       [37.  , 10.57,  6.37],\n       [39.  , 11.14,  7.49],\n       [39.  , 11.14,  6.  ],\n       [39.  , 12.43,  7.35],\n       [40.  , 11.93,  7.11],\n       [40.  , 11.73,  7.22],\n       [40.  , 12.38,  7.46],\n       [40.  , 11.14,  6.63],\n       [42.  , 12.8 ,  6.87],\n       [43.  , 11.93,  7.28],\n       [43.  , 12.51,  7.42],\n       [43.5 , 12.6 ,  8.14],\n       [44.  , 12.49,  7.6 ]])"
     },
     "execution_count": 1,
     "metadata": {},
     "output_type": "execute_result"
    }
   ],
   "source": [
    "import pandas as pd\n",
    "\n",
    "df = pd.read_csv('http://bit.ly/perch_csv_data')\n",
    "perch_full = df.to_numpy()\n",
    "perch_full\n"
   ]
  },
  {
   "cell_type": "code",
   "execution_count": 2,
   "outputs": [],
   "source": [
    "import numpy as np\n",
    "\n",
    "perch_weight = np.array([5.9, 32.0, 40.0, 51.5, 70.0, 100.0, 78.0, 80.0, 85.0, 85.0, 110.0,\n",
    "                         115.0, 125.0, 130.0, 120.0, 120.0, 130.0, 135.0, 110.0, 130.0,\n",
    "                         150.0, 145.0, 150.0, 170.0, 225.0, 145.0, 188.0, 180.0, 197.0,\n",
    "                         218.0, 300.0, 260.0, 265.0, 250.0, 250.0, 300.0, 320.0, 514.0,\n",
    "                         556.0, 840.0, 685.0, 700.0, 700.0, 690.0, 900.0, 650.0, 820.0,\n",
    "                         850.0, 900.0, 1015.0, 820.0, 1100.0, 1000.0, 1100.0, 1000.0,\n",
    "                         1000.0])\n"
   ],
   "metadata": {
    "collapsed": false,
    "ExecuteTime": {
     "end_time": "2023-08-06T09:03:25.971927800Z",
     "start_time": "2023-08-06T09:03:25.962659300Z"
    }
   }
  },
  {
   "cell_type": "code",
   "execution_count": 3,
   "outputs": [],
   "source": [
    "from sklearn.model_selection import train_test_split\n",
    "\n",
    "train_input, test_input, train_target, test_target = train_test_split(\n",
    "    perch_full, perch_weight, random_state=42\n",
    ")\n"
   ],
   "metadata": {
    "collapsed": false,
    "ExecuteTime": {
     "end_time": "2023-08-06T09:04:21.355219400Z",
     "start_time": "2023-08-06T09:04:20.876026500Z"
    }
   }
  },
  {
   "cell_type": "code",
   "execution_count": 10,
   "outputs": [],
   "source": [
    "from sklearn.preprocessing import PolynomialFeatures\n",
    "\n",
    "poly = PolynomialFeatures(include_bias=False)\n",
    "poly.fit(train_input)\n",
    "train_poly = poly.transform(train_input)\n",
    "train_poly.shape\n",
    "\n",
    "test_poly = poly.transform(test_input)\n"
   ],
   "metadata": {
    "collapsed": false,
    "ExecuteTime": {
     "end_time": "2023-08-06T09:14:32.995106400Z",
     "start_time": "2023-08-06T09:14:32.977948100Z"
    }
   }
  },
  {
   "cell_type": "code",
   "execution_count": 9,
   "outputs": [
    {
     "data": {
      "text/plain": "array(['x0', 'x1', 'x2', 'x0^2', 'x0 x1', 'x0 x2', 'x1^2', 'x1 x2',\n       'x2^2'], dtype=object)"
     },
     "execution_count": 9,
     "metadata": {},
     "output_type": "execute_result"
    }
   ],
   "source": [
    "poly.get_feature_names_out()\n"
   ],
   "metadata": {
    "collapsed": false,
    "ExecuteTime": {
     "end_time": "2023-08-06T09:13:55.123366400Z",
     "start_time": "2023-08-06T09:13:55.119637100Z"
    }
   }
  },
  {
   "cell_type": "code",
   "execution_count": 11,
   "outputs": [
    {
     "data": {
      "text/plain": "0.9903183436982124"
     },
     "execution_count": 11,
     "metadata": {},
     "output_type": "execute_result"
    }
   ],
   "source": [
    "from sklearn.linear_model import LinearRegression\n",
    "\n",
    "lr = LinearRegression()\n",
    "lr.fit(train_poly, train_target)\n",
    "lr.score(train_poly, train_target)\n"
   ],
   "metadata": {
    "collapsed": false,
    "ExecuteTime": {
     "end_time": "2023-08-06T09:16:06.872317200Z",
     "start_time": "2023-08-06T09:16:06.819976500Z"
    }
   }
  },
  {
   "cell_type": "code",
   "execution_count": 13,
   "outputs": [
    {
     "data": {
      "text/plain": "(42, 55)"
     },
     "execution_count": 13,
     "metadata": {},
     "output_type": "execute_result"
    }
   ],
   "source": [
    "poly = PolynomialFeatures(degree=5, include_bias=False)\n",
    "poly.fit(train_input)\n",
    "train_poly = poly.transform(train_input)\n",
    "test_poly = poly.transform(test_input)\n",
    "\n",
    "train_poly.shape"
   ],
   "metadata": {
    "collapsed": false,
    "ExecuteTime": {
     "end_time": "2023-08-06T09:18:21.759098Z",
     "start_time": "2023-08-06T09:18:21.743280800Z"
    }
   }
  },
  {
   "cell_type": "code",
   "execution_count": 14,
   "outputs": [
    {
     "data": {
      "text/plain": "0.9999999999996176"
     },
     "execution_count": 14,
     "metadata": {},
     "output_type": "execute_result"
    }
   ],
   "source": [
    "lr.fit(train_poly, train_target)\n",
    "lr.score(train_poly, train_target)\n"
   ],
   "metadata": {
    "collapsed": false,
    "ExecuteTime": {
     "end_time": "2023-08-06T09:18:49.695176900Z",
     "start_time": "2023-08-06T09:18:49.646632700Z"
    }
   }
  },
  {
   "cell_type": "code",
   "execution_count": 15,
   "outputs": [
    {
     "data": {
      "text/plain": "-144.40585108215134"
     },
     "execution_count": 15,
     "metadata": {},
     "output_type": "execute_result"
    }
   ],
   "source": [
    "lr.score(test_poly, test_target)\n"
   ],
   "metadata": {
    "collapsed": false,
    "ExecuteTime": {
     "end_time": "2023-08-06T09:19:06.703085700Z",
     "start_time": "2023-08-06T09:19:06.685576100Z"
    }
   }
  },
  {
   "cell_type": "code",
   "execution_count": 17,
   "outputs": [],
   "source": [
    "from sklearn.preprocessing import StandardScaler\n",
    "\n",
    "ss = StandardScaler()\n",
    "ss.fit(train_poly)\n",
    "\n",
    "train_scaled = ss.transform(train_poly)\n",
    "test_scaled = ss.transform(test_poly)\n"
   ],
   "metadata": {
    "collapsed": false,
    "ExecuteTime": {
     "end_time": "2023-08-06T09:23:59.012587300Z",
     "start_time": "2023-08-06T09:23:58.987659200Z"
    }
   }
  },
  {
   "cell_type": "code",
   "execution_count": 18,
   "outputs": [
    {
     "data": {
      "text/plain": "0.9896101671037343"
     },
     "execution_count": 18,
     "metadata": {},
     "output_type": "execute_result"
    }
   ],
   "source": [
    "# ridge\n",
    "\n",
    "from sklearn.linear_model import Ridge\n",
    "\n",
    "ridge = Ridge()\n",
    "ridge.fit(train_scaled, train_target)\n",
    "ridge.score(train_scaled, train_target)\n"
   ],
   "metadata": {
    "collapsed": false,
    "ExecuteTime": {
     "end_time": "2023-08-06T09:24:00.754136Z",
     "start_time": "2023-08-06T09:24:00.702911800Z"
    }
   }
  },
  {
   "cell_type": "code",
   "execution_count": 19,
   "outputs": [
    {
     "data": {
      "text/plain": "0.9790693977615379"
     },
     "execution_count": 19,
     "metadata": {},
     "output_type": "execute_result"
    }
   ],
   "source": [
    "ridge.score(test_scaled, test_target)\n"
   ],
   "metadata": {
    "collapsed": false,
    "ExecuteTime": {
     "end_time": "2023-08-06T09:24:24.571700700Z",
     "start_time": "2023-08-06T09:24:24.557184900Z"
    }
   }
  },
  {
   "cell_type": "code",
   "execution_count": 20,
   "outputs": [
    {
     "data": {
      "text/plain": "<Figure size 640x480 with 1 Axes>",
      "image/png": "[encoded data removed]"
     },
     "metadata": {},
     "output_type": "display_data"
    }
   ],
   "source": [
    "import matplotlib.pyplot as plt\n",
    "\n",
    "train_score = []\n",
    "test_score = []\n",
    "\n",
    "alpha_list = [0.001, 0.01, 0.1, 10, 100]\n",
    "for alpha in alpha_list:\n",
    "    ridge = Ridge(alpha=alpha)\n",
    "\n",
    "    ridge.fit(train_scaled, train_target)\n",
    "    train_score.append(ridge.score(train_scaled, train_target))\n",
    "    test_score.append(ridge.score(test_scaled, test_target))\n",
    "\n",
    "\n",
    "plt.plot(np.log10(alpha_list), train_score)\n",
    "plt.plot(np.log10(alpha_list), test_score)\n",
    "\n",
    "plt.xlabel('alpha')\n",
    "plt.ylabel('R^2')\n",
    "plt.show()\n"
   ],
   "metadata": {
    "collapsed": false,
    "ExecuteTime": {
     "end_time": "2023-08-06T09:31:16.522520Z",
     "start_time": "2023-08-06T09:31:16.033300600Z"
    }
   }
  },
  {
   "cell_type": "code",
   "execution_count": null,
   "outputs": [],
   "source": [
    "ridge = Ridge(alpha=0.1)\n",
    "ridge.fit(train_scaled, train_target)\n",
    "ridge.score(train_scaled, train_target)\n"
   ],
   "metadata": {
    "collapsed": false
   }
  }
 ],
 "metadata": {
  "kernelspec": {
   "display_name": "Python 3",
   "language": "python",
   "name": "python3"
  },
  "language_info": {
   "codemirror_mode": {
    "name": "ipython",
    "version": 2
   },
   "file_extension": ".py",
   "mimetype": "text/x-python",
   "name": "python",
   "nbconvert_exporter": "python",
   "pygments_lexer": "ipython2",
   "version": "2.7.6"
  }
 },
 "nbformat": 4,
 "nbformat_minor": 0
}
